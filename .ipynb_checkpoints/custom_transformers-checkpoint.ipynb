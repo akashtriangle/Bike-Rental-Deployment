{
 "cells": [
  {
   "cell_type": "code",
   "execution_count": 24,
   "id": "ea85cf11-3d96-4483-8b8c-7eddb58e5c32",
   "metadata": {},
   "outputs": [],
   "source": [
    "from sklearn.compose import ColumnTransformer\n",
    "from sklearn.base import BaseEstimator, TransformerMixin"
   ]
  },
  {
   "cell_type": "code",
   "execution_count": 26,
   "id": "0ccbf451-3be4-4428-b59b-c07938799be7",
   "metadata": {},
   "outputs": [],
   "source": [
    "# duplicate handling\n",
    "\n",
    "class duplicate_handler(BaseEstimator,TransformerMixin):\n",
    "    def __init__(self):\n",
    "        pass\n",
    "        \n",
    "    def fit(self,X,y=None):\n",
    "        return self\n",
    "        \n",
    "    def set_output(self,transform=None):\n",
    "        return self\n",
    "        \n",
    "    def transform(self,X,y=None):\n",
    "        X = X.copy()\n",
    "        X.drop_duplicates(inplace=True)\n",
    "        X.reset_index(drop=True,inplace=True)\n",
    "        return X"
   ]
  },
  {
   "cell_type": "code",
   "execution_count": 28,
   "id": "4d6af735-784c-464a-8870-3233cf310b3c",
   "metadata": {},
   "outputs": [],
   "source": [
    "# square root transformation\n",
    "class sqrt_transformation(BaseEstimator, TransformerMixin):\n",
    "    def __init__(self):\n",
    "        pass\n",
    "\n",
    "    def set_output(self, transform=None):\n",
    "        return self\n",
    "\n",
    "    def fit(self, X, y=None):\n",
    "        return self\n",
    "\n",
    "    def transform(self, X, y=None):\n",
    "        X = X.copy()\n",
    "        for col in X.columns:\n",
    "            X[col] = np.sqrt(X[col].clip(lower=0))\n",
    "        return X"
   ]
  },
  {
   "cell_type": "code",
   "execution_count": 30,
   "id": "9013b0f5-9475-40cf-b717-16f2c7a8ee9a",
   "metadata": {},
   "outputs": [],
   "source": [
    "class iqr_outlier_handler(BaseEstimator, TransformerMixin):\n",
    "    def __init__(self):\n",
    "        self.ll_ = {}\n",
    "        self.ul_ = {}\n",
    "        self.median_ = {}\n",
    "\n",
    "    def set_output(self, transform=None):\n",
    "        return self\n",
    "\n",
    "    \n",
    "    \n",
    "    def fit(self, X, y=None):\n",
    "        numeric_cols = X.select_dtypes(include=np.number).columns\n",
    "        for col in numeric_cols:\n",
    "            q1 = X[col].quantile(0.25)\n",
    "            q3 = X[col].quantile(0.75)\n",
    "            iqr = q3 - q1\n",
    "            self.ll_[col] = q1 - 1.5 * iqr\n",
    "            self.ul_[col] = q3 + 1.5 * iqr\n",
    "            self.median_[col] = X[col].median()\n",
    "        return self\n",
    "\n",
    "    def transform(self, X, y=None):\n",
    "        X = X.copy()\n",
    "        for col in self.ll_:\n",
    "            ll = self.ll_[col]\n",
    "            ul = self.ul_[col]\n",
    "            median = self.median_[col]\n",
    "            mask = (X[col] < ll) | (X[col] > ul)\n",
    "            X[col] = X[col].astype(float)\n",
    "            X.loc[mask, col] = median\n",
    "        return X\n"
   ]
  },
  {
   "cell_type": "code",
   "execution_count": 32,
   "id": "a11a4a31-01fa-4bb2-9df2-45635531d0e0",
   "metadata": {},
   "outputs": [],
   "source": [
    "# Column cleaner\n",
    "class ColumnNameCleaner(BaseEstimator, TransformerMixin):\n",
    "    def set_output(self, transform=None):\n",
    "        return self\n",
    "        \n",
    "    def fit(self, X, y=None):\n",
    "        self.columns_ = [col.split('__')[-1] for col in X.columns]\n",
    "        return self\n",
    "\n",
    "    def transform(self, X,y=None):\n",
    "        X.columns = self.columns_\n",
    "        return X"
   ]
  },
  {
   "cell_type": "code",
   "execution_count": 34,
   "id": "3167d67a-98b6-4f00-9ba8-72459d7584d0",
   "metadata": {},
   "outputs": [],
   "source": [
    "# class to clean column\n",
    "class Column_Filterer(BaseEstimator,TransformerMixin):\n",
    "    def __init__(self):\n",
    "        pass\n",
    "        \n",
    "    def set_output(self,transform=None):\n",
    "        return self\n",
    "        \n",
    "    def fit(self,X,y=None):\n",
    "        return self\n",
    "        \n",
    "    def transform(self,X,y=None):\n",
    "        col_permitted = ['season', 'yr', 'holiday', 'weekday', 'workingday', 'weathersit','temp', 'hum', 'windspeed']\n",
    "        input_missing_cols = [ col for col in col_permitted if col not in X.columns ]\n",
    "        if input_missing_cols:\n",
    "            raise ValueError\n",
    "        else:\n",
    "            X = X[col_permitted]\n",
    "            return X"
   ]
  },
  {
   "cell_type": "code",
   "execution_count": null,
   "id": "bb4af3d8-ed9e-40cd-8c29-f8915c32a334",
   "metadata": {},
   "outputs": [],
   "source": []
  },
  {
   "cell_type": "code",
   "execution_count": null,
   "id": "7f27a08e-34ce-4d3c-bb7b-69bb3622638e",
   "metadata": {},
   "outputs": [],
   "source": []
  },
  {
   "cell_type": "code",
   "execution_count": null,
   "id": "63548bf1-e9d6-40bf-8631-4188b30513be",
   "metadata": {},
   "outputs": [],
   "source": []
  }
 ],
 "metadata": {
  "kernelspec": {
   "display_name": "Python [conda env:base] *",
   "language": "python",
   "name": "conda-base-py"
  },
  "language_info": {
   "codemirror_mode": {
    "name": "ipython",
    "version": 3
   },
   "file_extension": ".py",
   "mimetype": "text/x-python",
   "name": "python",
   "nbconvert_exporter": "python",
   "pygments_lexer": "ipython3",
   "version": "3.12.7"
  }
 },
 "nbformat": 4,
 "nbformat_minor": 5
}
