{
 "cells": [
  {
   "cell_type": "markdown",
   "id": "6873b903-c6f6-4b84-b0a2-46a96f975669",
   "metadata": {},
   "source": [
    "# Define Problem statement"
   ]
  },
  {
   "cell_type": "raw",
   "id": "ea2fd175-5ae0-4c44-8f43-ecf77f6d9b25",
   "metadata": {},
   "source": [
    "Predict cnt from features given."
   ]
  },
  {
   "cell_type": "markdown",
   "id": "c578aeae-fdbf-4da8-bb0b-21f017ca8b8b",
   "metadata": {},
   "source": [
    "# Import Libraries"
   ]
  },
  {
   "cell_type": "code",
   "execution_count": null,
   "id": "e97ac57b-186a-41ad-bd82-043a25147b11",
   "metadata": {},
   "outputs": [],
   "source": [
    "# basic libs\n",
    "import numpy as np\n",
    "import pandas as pd\n",
    "import matplotlib.pyplot as plt\n",
    "%matplotlib inline\n",
    "import seaborn as sns"
   ]
  },
  {
   "cell_type": "code",
   "execution_count": null,
   "id": "a12e2589-8526-432c-8b92-069844b6d1e1",
   "metadata": {},
   "outputs": [],
   "source": [
    "# statistical imports\n",
    "import pingouin"
   ]
  },
  {
   "cell_type": "code",
   "execution_count": null,
   "id": "f2a77f58-a776-4335-818a-155929ed6978",
   "metadata": {},
   "outputs": [],
   "source": [
    "# pipeline related imports\n",
    "from sklearn.pipeline import Pipeline\n",
    "from sklearn.compose import ColumnTransformer\n",
    "from sklearn.base import BaseEstimator, TransformerMixin"
   ]
  },
  {
   "cell_type": "code",
   "execution_count": null,
   "id": "6008be1d-75e2-486c-9c9a-46c7605b234e",
   "metadata": {},
   "outputs": [],
   "source": [
    "# for transformer map\n",
    "from collections import defaultdict"
   ]
  },
  {
   "cell_type": "code",
   "execution_count": null,
   "id": "9fe403da-475e-456a-93b7-80d14bca48c5",
   "metadata": {},
   "outputs": [],
   "source": [
    "# preprocessing imports\n",
    "from sklearn.impute import SimpleImputer"
   ]
  },
  {
   "cell_type": "code",
   "execution_count": null,
   "id": "e1455f6a-3d34-4f49-9766-e836580a03fc",
   "metadata": {},
   "outputs": [],
   "source": [
    "#\n",
    "from sklearn.model_selection import train_test_split"
   ]
  },
  {
   "cell_type": "code",
   "execution_count": null,
   "id": "265b785b-0def-4d6a-b8d2-1be986216643",
   "metadata": {},
   "outputs": [],
   "source": [
    "# model import\n",
    "from sklearn.linear_model import LinearRegression\n",
    "from sklearn.svm import SVR\n",
    "from sklearn.tree import DecisionTreeRegressor\n",
    "from sklearn.ensemble import RandomForestRegressor, GradientBoostingRegressor\n",
    "from xgboost import XGBRegressor\n",
    "from sklearn.neighbors import KNeighborsRegressor"
   ]
  },
  {
   "cell_type": "code",
   "execution_count": null,
   "id": "3a338285-07be-4df1-be4d-0e92f666c5dd",
   "metadata": {},
   "outputs": [],
   "source": [
    "from sklearn.metrics import mean_squared_error, mean_absolute_error, r2_score"
   ]
  },
  {
   "cell_type": "code",
   "execution_count": null,
   "id": "3f95b655-d697-41a6-bc14-1a1111fd0b66",
   "metadata": {},
   "outputs": [],
   "source": [
    "from sklearn.metrics import root_mean_squared_error"
   ]
  },
  {
   "cell_type": "code",
   "execution_count": null,
   "id": "b6510e2f-fdb0-4a7f-a725-b4f19192b533",
   "metadata": {},
   "outputs": [],
   "source": [
    "# import for hyperparameter tuning\n",
    "from sklearn.model_selection import GridSearchCV"
   ]
  },
  {
   "cell_type": "code",
   "execution_count": null,
   "id": "d74e5686-d055-4bb5-b9e8-8cf21d160200",
   "metadata": {},
   "outputs": [],
   "source": [
    "import pickle"
   ]
  },
  {
   "cell_type": "markdown",
   "id": "6b83d576-df52-4d36-b238-2a9fe4883ea8",
   "metadata": {},
   "source": [
    "# Load Data"
   ]
  },
  {
   "cell_type": "code",
   "execution_count": null,
   "id": "639643a7-d9c2-4b87-a802-48df838a20e4",
   "metadata": {},
   "outputs": [],
   "source": [
    "dataset_day = pd.read_csv('day.csv')\n",
    "dfd = dataset_day.copy()\n",
    "dfd"
   ]
  },
  {
   "cell_type": "code",
   "execution_count": null,
   "id": "76e25a04-5f93-44f5-846e-fbf976ee7bad",
   "metadata": {},
   "outputs": [],
   "source": [
    "dfd.drop(columns='instant',inplace=True)\n",
    "\n",
    "dfd.set_index('dteday',inplace=True)"
   ]
  },
  {
   "cell_type": "code",
   "execution_count": null,
   "id": "6f86ddc0-36a4-4d14-a83b-464d72c54e77",
   "metadata": {},
   "outputs": [],
   "source": [
    "dfd"
   ]
  },
  {
   "cell_type": "markdown",
   "id": "a01c79a4-5113-42bc-926e-9787738a3216",
   "metadata": {},
   "source": [
    "# Basic check"
   ]
  },
  {
   "cell_type": "code",
   "execution_count": null,
   "id": "63937410-01ba-4199-b770-dd97db184630",
   "metadata": {},
   "outputs": [],
   "source": [
    "dfd.head()"
   ]
  },
  {
   "cell_type": "code",
   "execution_count": null,
   "id": "0de63981-05dd-4fe7-b2bc-476b6172eee9",
   "metadata": {},
   "outputs": [],
   "source": [
    "dfd.shape"
   ]
  },
  {
   "cell_type": "raw",
   "id": "d2fc83b6-e094-4b8a-aa58-9ad4feb0adda",
   "metadata": {},
   "source": [
    "dfd has 731 rows and 14 columns"
   ]
  },
  {
   "cell_type": "code",
   "execution_count": null,
   "id": "b35deb39-a326-414b-ba7a-d69e8d9a337a",
   "metadata": {},
   "outputs": [],
   "source": [
    "dfd.info()"
   ]
  },
  {
   "cell_type": "raw",
   "id": "918cb224-8a0c-427c-b347-727c33537ebe",
   "metadata": {},
   "source": [
    "Insights:\n",
    "Data is of 2 years.\n",
    "All numeric columns."
   ]
  },
  {
   "cell_type": "code",
   "execution_count": null,
   "id": "dc145f00-a70d-4704-9293-5a2b285c54c2",
   "metadata": {},
   "outputs": [],
   "source": [
    " dfd.describe()"
   ]
  },
  {
   "cell_type": "raw",
   "id": "381e7c49-5bf2-43fd-91d6-c4549f32551b",
   "metadata": {},
   "source": [
    "Insights:\n",
    "Least no. of bikes rented is: 22\n",
    "Highest no. of bikes rented is: 8714\n",
    "Average no. of bikes rented is: 4504"
   ]
  },
  {
   "cell_type": "code",
   "execution_count": null,
   "id": "0d970ac0-6d06-4c64-9e79-68589c517008",
   "metadata": {},
   "outputs": [],
   "source": [
    "dfd.columns"
   ]
  },
  {
   "cell_type": "code",
   "execution_count": null,
   "id": "14a07988-cc36-4d7e-baab-35cec02e9adf",
   "metadata": {},
   "outputs": [],
   "source": [
    "dfd.season.value_counts()"
   ]
  },
  {
   "cell_type": "code",
   "execution_count": null,
   "id": "d9700c2c-2dce-48df-aee6-1d2017d4e352",
   "metadata": {},
   "outputs": [],
   "source": [
    "dfd.holiday.value_counts()"
   ]
  },
  {
   "cell_type": "code",
   "execution_count": null,
   "id": "bfedef38-4796-417e-a0a1-2e745c7a80b9",
   "metadata": {},
   "outputs": [],
   "source": [
    "dfd.columns"
   ]
  },
  {
   "cell_type": "markdown",
   "id": "4d07c6f9-6def-4ac5-8e6f-e57480991e7c",
   "metadata": {},
   "source": [
    "# EDA"
   ]
  },
  {
   "cell_type": "code",
   "execution_count": null,
   "id": "4497b4bf-0676-4980-9ba9-d47f1ee9ca5b",
   "metadata": {
    "scrolled": true
   },
   "outputs": [],
   "source": [
    "# season vs cnt\n",
    "season_cnt_grpby = dfd.groupby('season')['cnt'].sum().reset_index()\n",
    "season_cnt_grpby['season name'] = season_cnt_grpby['season'].map({1:'winter',2:'spring',3:'summer',4:'fall'})\n",
    "print(season_cnt_grpby.sort_values(by='cnt',ascending=False))\n",
    "sns.barplot(x=season_cnt_grpby['season name'],y=season_cnt_grpby.cnt,data=season_cnt_grpby)\n",
    "plt.show()"
   ]
  },
  {
   "cell_type": "raw",
   "id": "ba4468b4-fd9f-45a4-a806-eda98abc4895",
   "metadata": {},
   "source": [
    "Insights:\n",
    "Most bikes rented in summer followed by spring, fall and last winter."
   ]
  },
  {
   "cell_type": "code",
   "execution_count": null,
   "id": "fad9b955-c447-4801-8bda-0b11d40ec57b",
   "metadata": {
    "scrolled": true
   },
   "outputs": [],
   "source": [
    "# \n",
    "workingday_cnt_grpby = dfd.groupby('workingday')['cnt'].sum().reset_index()\n",
    "workingday_cnt_grpby['Work_Day'] = workingday_cnt_grpby['workingday'].map({0:'No',1:'Yes'})\n",
    "print(workingday_cnt_grpby.sort_values(by='cnt',ascending=False))\n",
    "sns.barplot(x=workingday_cnt_grpby['Work_Day'],y=workingday_cnt_grpby['cnt'],data=workingday_cnt_grpby)\n",
    "plt.ylabel('CNT')\n",
    "plt.show()"
   ]
  },
  {
   "cell_type": "raw",
   "id": "d4b083be-6051-4555-a125-3850eda6b41d",
   "metadata": {},
   "source": [
    "Insights:\n",
    "More bikes are rented on work days, this shows that office commuters, students use bikes often."
   ]
  },
  {
   "cell_type": "code",
   "execution_count": null,
   "id": "787ed1db-7e6a-4f36-8012-4c992cfe2fd7",
   "metadata": {
    "scrolled": true
   },
   "outputs": [],
   "source": [
    "# weathersit vs cnt\n",
    "weathersit_cnt_grpby = dfd.groupby('weathersit')['cnt'].sum().reset_index()\n",
    "weathersit_cnt_grpby['weather_condition'] = weathersit_cnt_grpby['weathersit'].map({\n",
    "    1: \"Clear or Partly Cloudy\",\n",
    "    2: \"Mist or Cloudy\",\n",
    "    3: \"Light Rain or Snow\",\n",
    "    4: \"Heavy Rain or Snow\"\n",
    "})\n",
    "print(weathersit_cnt_grpby.sort_values(by='cnt',ascending=False))\n",
    "sns.barplot(x=weathersit_cnt_grpby['weather_condition'],y=weathersit_cnt_grpby['cnt'],data=weathersit_cnt_grpby)\n",
    "plt.show()"
   ]
  },
  {
   "cell_type": "raw",
   "id": "67ae0668-051e-4a6b-8e56-e983234684da",
   "metadata": {},
   "source": [
    "Insights:\n",
    "Riders prefer clear, little clouds weather, they choose to bike even in mist or cloudy condition but half or more choose to avoid biking while in light snow extremely few riders go out."
   ]
  },
  {
   "cell_type": "code",
   "execution_count": null,
   "id": "b844c5cd-9047-4267-8337-60c62d9cc458",
   "metadata": {
    "scrolled": true
   },
   "outputs": [],
   "source": [
    "# temp vs cnt\n",
    "real_temp = dfd['temp'].apply(lambda x : (x*47)-8)\n",
    "sns.scatterplot(x=real_temp,y=dfd['cnt'])\n",
    "plt.title('Real Temp')\n",
    "plt.show()"
   ]
  },
  {
   "cell_type": "raw",
   "id": "14ac148d-4a1e-4426-8268-de4f7632da0e",
   "metadata": {},
   "source": [
    "Insights:\n",
    "In very less temperatures under 0 degree, very few people choose to cycle."
   ]
  },
  {
   "cell_type": "code",
   "execution_count": null,
   "id": "725a0024-c9ce-41fe-94b9-6f58a3a7db75",
   "metadata": {
    "scrolled": true
   },
   "outputs": [],
   "source": [
    "# temp vs cnt\n",
    "real_atemp = dfd['atemp'].apply(lambda x : (x*66)-16)\n",
    "sns.scatterplot(x=real_atemp,y=dfd['cnt'])\n",
    "plt.title('Real ATemp')\n",
    "plt.show()"
   ]
  },
  {
   "cell_type": "code",
   "execution_count": null,
   "id": "e126f7d3-f080-4daf-80f8-2421a292b9db",
   "metadata": {
    "scrolled": true
   },
   "outputs": [],
   "source": [
    "melted = pd.melt(\n",
    "    dfd,\n",
    "    id_vars='workingday',               # Column to keep as-is\n",
    "    value_vars=['casual', 'registered'],# Columns to \"melt\" (convert from wide → long)\n",
    "    var_name='user_type',               # New column name for former column headers\n",
    "    value_name='count'                  # New column name for actual values\n",
    ")\n",
    "sns.barplot(x='workingday', y='count', hue='user_type', data=melted)\n",
    "plt.title(\"Casual vs Registered Rentals on Working and Non-Working Days\")\n",
    "plt.xlabel(\"Working Day (0 = No, 1 = Yes)\")\n",
    "plt.ylabel(\"Total Rentals\")\n",
    "plt.show()"
   ]
  },
  {
   "cell_type": "raw",
   "id": "5e2c6ae2-fae5-43f8-8846-3235973c6765",
   "metadata": {},
   "source": [
    "Insights:\n",
    "-There is a drop in casuals on working days meaning some people use bikes just for recreation, exercise.\n",
    "-Registered users are found more on working days meaning some are not used on non working days, this means that office goers, school, college goers often use bikes as their transport medium, so more focus could go on holding and doing something for registered users."
   ]
  },
  {
   "cell_type": "code",
   "execution_count": null,
   "id": "bf0a9429-8438-484c-8f70-b7cc18036bde",
   "metadata": {},
   "outputs": [],
   "source": [
    "# Statistical EDA"
   ]
  },
  {
   "cell_type": "code",
   "execution_count": null,
   "id": "01a5746c-5ff2-493c-b33d-b6fbad4399f5",
   "metadata": {},
   "outputs": [],
   "source": [
    "# lists for categoric and numeric\n",
    "numeric = ['temp', 'atemp', 'hum', 'windspeed', 'casual', 'registered']\n",
    "print('numeric cols: ',numeric)"
   ]
  },
  {
   "cell_type": "code",
   "execution_count": null,
   "id": "b603f3a0-892f-4ba2-8d4b-ce14f46862be",
   "metadata": {},
   "outputs": [],
   "source": [
    "categoric = [ col for col in dfd.columns if col not in numeric]\n",
    "print(categoric)"
   ]
  },
  {
   "cell_type": "code",
   "execution_count": null,
   "id": "6b5f8ef4-5fdc-464e-a3fa-5343ce4cc83d",
   "metadata": {},
   "outputs": [],
   "source": [
    "dfd.index = pd.to_datetime(dfd.index)"
   ]
  },
  {
   "cell_type": "code",
   "execution_count": 1,
   "id": "600a77d3-b5f8-45fe-bb07-f1ba63efb6e5",
   "metadata": {},
   "outputs": [
    {
     "ename": "NameError",
     "evalue": "name 'pingouin' is not defined",
     "output_type": "error",
     "traceback": [
      "\u001b[31m---------------------------------------------------------------------------\u001b[39m",
      "\u001b[31mNameError\u001b[39m                                 Traceback (most recent call last)",
      "\u001b[36mCell\u001b[39m\u001b[36m \u001b[39m\u001b[32mIn[1]\u001b[39m\u001b[32m, line 5\u001b[39m\n\u001b[32m      3\u001b[39m non_normal=[]\n\u001b[32m      4\u001b[39m uncertain=[]\n\u001b[32m----> \u001b[39m\u001b[32m5\u001b[39m normal_df = pingouin.normality(dfd[numeric])[\u001b[33m'\u001b[39m\u001b[33mpval\u001b[39m\u001b[33m'\u001b[39m]\n\u001b[32m      6\u001b[39m normal_df\n\u001b[32m      7\u001b[39m \u001b[38;5;28;01mfor\u001b[39;00m col \u001b[38;5;129;01min\u001b[39;00m numeric:\n",
      "\u001b[31mNameError\u001b[39m: name 'pingouin' is not defined"
     ]
    }
   ],
   "source": [
    "# normality\n",
    "normal=[]\n",
    "non_normal=[]\n",
    "uncertain=[]\n",
    "normal_df = pingouin.normality(dfd[numeric])['pval']\n",
    "normal_df\n",
    "for col in numeric:\n",
    "    p = normal_df[col]\n",
    "    if (0.01<p<=0.05):\n",
    "        uncertain.append(col)\n",
    "    elif (p<=0.01):\n",
    "        non_normal.append(col)\n",
    "    else:\n",
    "        normal.append(col)\n",
    "print('normal cols:',normal)\n",
    "print('non_normal:',non_normal)\n",
    "print('uncertain:',uncertain)"
   ]
  },
  {
   "cell_type": "code",
   "execution_count": null,
   "id": "10de43e3-43b3-48ec-b5ca-7face1238cd5",
   "metadata": {},
   "outputs": [],
   "source": [
    "# skewness\n",
    "fairly_skew = []\n",
    "mod_positive = []\n",
    "mod_negative = []\n",
    "heavily_positive = []\n",
    "heavily_negative = []\n",
    "for col in numeric:\n",
    "    _skew = dfd[col].skew()\n",
    "    if (-0.5<_skew<0.5):\n",
    "        fairly_skew.append(col)\n",
    "    elif (0.5<=_skew<=1.0):\n",
    "        mod_positive.append(col)\n",
    "    elif (_skew>1.0):\n",
    "        heavily_positive.append(col)\n",
    "    elif (-1.0 <=_skew<-0.5):\n",
    "        mod_negative.append(col)\n",
    "    elif (_skew<-1.0):\n",
    "        heavily_negative.append(col)\n",
    "print('fairly_skew:',fairly_skew)\n",
    "print('mod_positive',mod_positive)\n",
    "print('mod_negative',mod_negative)\n",
    "print('heavily_positive',heavily_positive)\n",
    "print('heavily_negative',heavily_negative)"
   ]
  },
  {
   "cell_type": "code",
   "execution_count": null,
   "id": "742abf07-4df4-4065-b8d4-6d78ed8d9bdd",
   "metadata": {},
   "outputs": [],
   "source": [
    "(dfd['windspeed']<=0).any()"
   ]
  },
  {
   "cell_type": "code",
   "execution_count": null,
   "id": "ec70f9b5-83f2-4858-a22c-879ce089b386",
   "metadata": {},
   "outputs": [],
   "source": [
    "# finding outliers iqr\n",
    "non_normal_outliers = []\n",
    "for col in numeric:\n",
    "    q1 = np.quantile(dfd[col], 0.25)\n",
    "    q3 = np.quantile(dfd[col], 0.75)\n",
    "    iqr = q3 - q1\n",
    "    ll = q1 - 1.5 * iqr\n",
    "    ul = q3 + 1.5 * iqr\n",
    "\n",
    "    outliers = dfd[(dfd[col] < ll) | (dfd[col] > ul)]\n",
    "    outlier_ratio = len(outliers) / len(dfd[col])\n",
    "\n",
    "    if (outlier_ratio < 0.05) and (len(outliers) > 0):\n",
    "        non_normal_outliers.append(col)\n",
    "\n",
    "print('Non-normal cols with outliers:', non_normal_outliers)"
   ]
  },
  {
   "cell_type": "code",
   "execution_count": null,
   "id": "baecbc42-3006-4287-bb61-5b0ff15bbe1a",
   "metadata": {},
   "outputs": [],
   "source": [
    "# cols for scaling\n",
    "standard_scaling = []\n",
    "minmax_scaling = []\n",
    "for col in numeric:\n",
    "    print(f'{col} {dfd[col].max()-dfd[col].min()}')"
   ]
  },
  {
   "cell_type": "code",
   "execution_count": null,
   "id": "a61f656a-4858-430c-a4cd-818a25705894",
   "metadata": {},
   "outputs": [],
   "source": [
    "dfd.duplicated().sum()"
   ]
  },
  {
   "cell_type": "code",
   "execution_count": null,
   "id": "fa77be12-317b-400e-afb6-d784e7fccf44",
   "metadata": {},
   "outputs": [],
   "source": [
    "dfd.isnull().sum()"
   ]
  },
  {
   "cell_type": "markdown",
   "id": "19e987a2-b4cf-4d10-8905-48747e2d019c",
   "metadata": {},
   "source": [
    "# Custom Transformers"
   ]
  },
  {
   "cell_type": "code",
   "execution_count": null,
   "id": "bfef2141-66a8-452a-a29b-962475672cff",
   "metadata": {},
   "outputs": [],
   "source": [
    "# duplicate handling\n",
    "\n",
    "class duplicate_handler(BaseEstimator,TransformerMixin):\n",
    "    def __init__(self):\n",
    "        pass\n",
    "        \n",
    "    def fit(self,X,y=None):\n",
    "        return self\n",
    "        \n",
    "    def set_output(self,transform=None):\n",
    "        return self\n",
    "        \n",
    "    def transform(self,X,y=None):\n",
    "        X = X.copy()\n",
    "        X.drop_duplicates(inplace=True)\n",
    "        X.reset_index(drop=True,inplace=True)\n",
    "        return X"
   ]
  },
  {
   "cell_type": "code",
   "execution_count": null,
   "id": "715adfee-789e-46bd-a403-0b1b40291bb2",
   "metadata": {},
   "outputs": [],
   "source": [
    "# square root transformation\n",
    "class sqrt_transformation(BaseEstimator, TransformerMixin):\n",
    "    def __init__(self):\n",
    "        pass\n",
    "\n",
    "    def set_output(self, transform=None):\n",
    "        return self\n",
    "\n",
    "    def fit(self, X, y=None):\n",
    "        return self\n",
    "\n",
    "    def transform(self, X, y=None):\n",
    "        X = X.copy()\n",
    "        for col in X.columns:\n",
    "            X[col] = np.sqrt(X[col].clip(lower=0))\n",
    "        return X"
   ]
  },
  {
   "cell_type": "code",
   "execution_count": null,
   "id": "aaa4c74e-3253-4019-877b-df204afd87bb",
   "metadata": {},
   "outputs": [],
   "source": [
    "class iqr_outlier_handler(BaseEstimator, TransformerMixin):\n",
    "    def __init__(self):\n",
    "        self.ll_ = {}\n",
    "        self.ul_ = {}\n",
    "        self.median_ = {}\n",
    "\n",
    "    def set_output(self, transform=None):\n",
    "        return self\n",
    "\n",
    "    \n",
    "    \n",
    "    def fit(self, X, y=None):\n",
    "        numeric_cols = X.select_dtypes(include=np.number).columns\n",
    "        for col in numeric_cols:\n",
    "            q1 = X[col].quantile(0.25)\n",
    "            q3 = X[col].quantile(0.75)\n",
    "            iqr = q3 - q1\n",
    "            self.ll_[col] = q1 - 1.5 * iqr\n",
    "            self.ul_[col] = q3 + 1.5 * iqr\n",
    "            self.median_[col] = X[col].median()\n",
    "        return self\n",
    "\n",
    "    def transform(self, X, y=None):\n",
    "        X = X.copy()\n",
    "        for col in self.ll_:\n",
    "            ll = self.ll_[col]\n",
    "            ul = self.ul_[col]\n",
    "            median = self.median_[col]\n",
    "            mask = (X[col] < ll) | (X[col] > ul)\n",
    "            X[col] = X[col].astype(float)\n",
    "            X.loc[mask, col] = median\n",
    "        return X\n"
   ]
  },
  {
   "cell_type": "code",
   "execution_count": null,
   "id": "1817e6a3-b227-4b8c-a188-822d270bf23c",
   "metadata": {},
   "outputs": [],
   "source": [
    "# Column cleaner\n",
    "class ColumnNameCleaner(BaseEstimator, TransformerMixin):\n",
    "    def set_output(self, transform=None):\n",
    "        return self\n",
    "        \n",
    "    def fit(self, X, y=None):\n",
    "        self.columns_ = [col.split('__')[-1] for col in X.columns]\n",
    "        return self\n",
    "\n",
    "    def transform(self, X,y=None):\n",
    "        X.columns = self.columns_\n",
    "        return X"
   ]
  },
  {
   "cell_type": "code",
   "execution_count": null,
   "id": "8eba62b8-7875-4587-a68e-405e42ecd35e",
   "metadata": {},
   "outputs": [],
   "source": [
    "# class to clean column\n",
    "class Column_Filterer(BaseEstimator,TransformerMixin):\n",
    "    def __init__(self):\n",
    "        pass\n",
    "        \n",
    "    def set_output(self,transform=None):\n",
    "        return self\n",
    "        \n",
    "    def fit(self,X,y=None):\n",
    "        return self\n",
    "        \n",
    "    def transform(self,X,y=None):\n",
    "        col_permitted = ['season', 'yr', 'holiday', 'weekday', 'workingday', 'weathersit','temp', 'hum', 'windspeed']\n",
    "        input_missing_cols = [ col for col in col_permitted if col not in X.columns ]\n",
    "        if input_missing_cols:\n",
    "            raise ValueError\n",
    "        else:\n",
    "            X = X[col_permitted]\n",
    "            return X"
   ]
  },
  {
   "cell_type": "markdown",
   "id": "d82b1ad7-af53-415d-a6b7-e2a80d742d27",
   "metadata": {},
   "source": [
    "# Split in X,y and train test"
   ]
  },
  {
   "cell_type": "code",
   "execution_count": null,
   "id": "cb6e6c6b-fe39-4fe8-97b0-dc90582f75f4",
   "metadata": {},
   "outputs": [],
   "source": [
    "y = dfd['cnt']\n",
    "X = dfd.drop(columns=['mnth', 'atemp', 'casual', 'registered','cnt'])"
   ]
  },
  {
   "cell_type": "code",
   "execution_count": null,
   "id": "4a578857-52e3-4e1a-9bb7-270622aaf7fb",
   "metadata": {},
   "outputs": [],
   "source": [
    "xtrain, xtest, ytrain, ytest = train_test_split(X, y, test_size=0.2, random_state=42)"
   ]
  },
  {
   "cell_type": "markdown",
   "id": "a6d01490-f98e-4d02-bf51-e1f71f7c3416",
   "metadata": {},
   "source": [
    "# Transformations list"
   ]
  },
  {
   "cell_type": "code",
   "execution_count": null,
   "id": "f78990c1-449f-4e57-bf90-2cbd61a73e09",
   "metadata": {},
   "outputs": [],
   "source": [
    "#duplicate handling\n",
    "dupicate_handling_list = numeric+categoric\n",
    "#missing values numeric\n",
    "missing_numeric_list = numeric\n",
    "#missing values categoric\n",
    "missing_categoric_list = categoric\n",
    "#transformations\n",
    "square_root_transformation_list = ['windspeed']\n",
    "#iqr outliers\n",
    "iqr_outliers = non_normal_outliers"
   ]
  },
  {
   "cell_type": "code",
   "execution_count": null,
   "id": "eb76847a-606e-45e7-9f18-85a03e571fe8",
   "metadata": {},
   "outputs": [],
   "source": [
    "metadata = {\n",
    "'duplicate handling':numeric+categoric,\n",
    "'missing values numeric':missing_numeric_list,\n",
    "'missing values categoric':missing_categoric_list,\n",
    "'transformations':square_root_transformation_list,\n",
    "'iqr outliers':iqr_outliers\n",
    "}"
   ]
  },
  {
   "cell_type": "markdown",
   "id": "4efe867b-f4aa-41b0-bf19-35fb6064649d",
   "metadata": {},
   "source": [
    "# Create transformation map"
   ]
  },
  {
   "cell_type": "code",
   "execution_count": null,
   "id": "0c44fb48-cc98-400e-8f17-93e0769a0afb",
   "metadata": {},
   "outputs": [],
   "source": [
    "num_cols = metadata['missing values numeric']\n",
    "cat_cols = metadata['missing values categoric']\n",
    "outlier_cols = metadata['iqr outliers']\n",
    "sqrt_cols = metadata['transformations']"
   ]
  },
  {
   "cell_type": "code",
   "execution_count": null,
   "id": "8a94e4b6-b849-4869-a4a9-f8a24278ac13",
   "metadata": {},
   "outputs": [],
   "source": [
    "transformation_map = defaultdict(list)\n",
    "for col in numeric:\n",
    "    step = ['missing_handle_numeric']\n",
    "    if col in sqrt_cols:\n",
    "        step.append('square_root_transformation')\n",
    "    if col in outlier_cols:\n",
    "        step.append('iqr_outlier_handling')\n",
    "    step_key = '-> '.join(step)\n",
    "    transformation_map[step_key].append(col)\n",
    "for col in categoric:\n",
    "    transformation_map['missing_handle_categoric'].append(col)\n",
    "\n",
    "transformation_map = dict(transformation_map)\n",
    "\n",
    "for k, v in transformation_map.items():\n",
    "    print(f\"{k}: {v}\")"
   ]
  },
  {
   "cell_type": "code",
   "execution_count": null,
   "id": "af7119ad-a4f1-4cff-9b5a-85b1cc092630",
   "metadata": {},
   "outputs": [],
   "source": [
    "X_cols = set(X.columns)\n",
    "\n",
    "for step_key in transformation_map:\n",
    "    transformation_map[step_key] = [\n",
    "        col for col in dict.fromkeys(transformation_map[step_key]) if col in X_cols\n",
    "    ]"
   ]
  },
  {
   "cell_type": "code",
   "execution_count": null,
   "id": "93af7e1b-716c-4654-8943-1aa2dfe0b123",
   "metadata": {},
   "outputs": [],
   "source": [
    "step_name_to_transformer = {\n",
    "'missing_handle_numeric':SimpleImputer(strategy='median'),\n",
    "'missing_handle_categoric':SimpleImputer(strategy='most_frequent'),\n",
    "'square_root_transformation':sqrt_transformation(),\n",
    "'iqr_outlier_handling':iqr_outlier_handler()\n",
    "}"
   ]
  },
  {
   "cell_type": "markdown",
   "id": "2d520969-689c-46e1-a95f-5b10e5d49f77",
   "metadata": {},
   "source": [
    "# step templates"
   ]
  },
  {
   "cell_type": "code",
   "execution_count": null,
   "id": "705d56a9-332b-48ee-a072-53f811668891",
   "metadata": {},
   "outputs": [],
   "source": [
    "step_templates = {}\n",
    "for step in transformation_map.keys():\n",
    "    step_list = step.split('->')\n",
    "    step_list = [s.strip() for s in step.split('->')]\n",
    "    pipeline_steps = []\n",
    "    for step_name in step_list:\n",
    "        if step_name not in step_name_to_transformer:\n",
    "            raise ValueError(f\"No transformer found for step: {step_name}\")\n",
    "        pipeline_steps.append((step_name,step_name_to_transformer[step_name]))\n",
    "    step_templates[step] = Pipeline(pipeline_steps)\n",
    "\n",
    "for step_key in step_templates:\n",
    "    pipeline = step_templates[step_key]\n",
    "    pipeline.steps.append(('clean_names', ColumnNameCleaner()))"
   ]
  },
  {
   "cell_type": "code",
   "execution_count": null,
   "id": "9b64f3de-9208-4c0a-9642-c8e57c24302b",
   "metadata": {
    "scrolled": true
   },
   "outputs": [],
   "source": [
    "step_templates"
   ]
  },
  {
   "cell_type": "code",
   "execution_count": null,
   "id": "135d60b3-cc08-4cbd-ae49-68b2cd725542",
   "metadata": {},
   "outputs": [],
   "source": [
    "preprocessor = ColumnTransformer([\n",
    "    (step_key, step_templates[step_key], cols)\n",
    "    for step_key, cols in transformation_map.items()\n",
    "])"
   ]
  },
  {
   "cell_type": "code",
   "execution_count": null,
   "id": "67c9732f-21c0-4078-8aa0-d66b36532cba",
   "metadata": {
    "scrolled": true
   },
   "outputs": [],
   "source": [
    "preprocessor = preprocessor.set_output(transform=\"pandas\")"
   ]
  },
  {
   "cell_type": "code",
   "execution_count": null,
   "id": "8d5d26cb-e387-4ac9-af61-8108cfea6cfc",
   "metadata": {},
   "outputs": [],
   "source": [
    "preprocessor"
   ]
  },
  {
   "cell_type": "code",
   "execution_count": null,
   "id": "8b082fcf-fe81-40e2-bb48-37c3ca699e42",
   "metadata": {},
   "outputs": [],
   "source": [
    "multicollinear_cols = []\n",
    "corr_ = dfd.corr().abs()\n",
    "mask = np.triu(np.ones(corr_.shape),k=1).astype(bool)\n",
    "corr_ = corr_.where(mask)\n",
    "for col in corr_.columns:\n",
    "    for row in corr_.index:\n",
    "        if (corr_.loc[row,col]>0.9):\n",
    "            multicollinear_cols.append((row,col,round(corr_.loc[row,col],5)))\n",
    "print('multicollinear cols are:\\n',multicollinear_cols)"
   ]
  },
  {
   "cell_type": "code",
   "execution_count": null,
   "id": "5d881e3a-849d-4db5-8670-44c233febd29",
   "metadata": {},
   "outputs": [],
   "source": [
    "xtrain_proc = preprocessor.fit_transform(xtrain, ytrain)\n",
    "xtest_proc = preprocessor.transform(xtest)"
   ]
  },
  {
   "cell_type": "code",
   "execution_count": null,
   "id": "5d01bcbc-501a-4980-a06f-4930bc409e48",
   "metadata": {
    "scrolled": true
   },
   "outputs": [],
   "source": [
    "models = [\n",
    "    LinearRegression(),\n",
    "    SVR(),\n",
    "    DecisionTreeRegressor(),\n",
    "    RandomForestRegressor(),\n",
    "    GradientBoostingRegressor(),\n",
    "    XGBRegressor()\n",
    "]\n",
    "\n",
    "for model in models:\n",
    "    temp_pipeline = Pipeline([\n",
    "        (\"preprocessor\", preprocessor),\n",
    "        (\"model\", model)\n",
    "    ])\n",
    "    \n",
    "    temp_pipeline.fit(xtrain, ytrain)\n",
    "    ypred = temp_pipeline.predict(xtest)\n",
    "    \n",
    "    mae = mean_absolute_error(ytest, ypred)\n",
    "    mse = mean_squared_error(ytest, ypred)\n",
    "    rmse = root_mean_squared_error(ytest, ypred)\n",
    "    r2 = r2_score(ytest, ypred)\n",
    "    adj_r2 = 1-(1-r2)*(len(ytest)-1)/(len(ytest)-xtrain.shape[1]-1)\n",
    "    \n",
    "    print(f\"{model.__class__.__name__}\")\n",
    "    print(f\"  MAE  : {mae:.2f}\")\n",
    "    print(f\"  MSE  : {mse:.2f}\")\n",
    "    print(f\"  RMSE : {rmse:.2f}\")\n",
    "    print(f\"  R²   : {r2:.3f}\")\n",
    "    print(f\"  Adj R²: {adj_r2:.3f}\")\n",
    "    print(\"----------------------------------------------------------\")"
   ]
  },
  {
   "cell_type": "code",
   "execution_count": null,
   "id": "91dacade-0edd-4006-be43-0d18368830a1",
   "metadata": {},
   "outputs": [],
   "source": [
    "# KNN regressor"
   ]
  },
  {
   "cell_type": "code",
   "execution_count": null,
   "id": "b6fed2ab-16e8-4dfd-9ee3-35dd8af6364b",
   "metadata": {},
   "outputs": [],
   "source": [
    "# find optimal k\n",
    "rmse_val = [] \n",
    "for K in range(1,20):\n",
    "    \n",
    "    model = KNeighborsRegressor(n_neighbors = K)\n",
    "\n",
    "    model.fit(xtrain, ytrain)  #fit the model\n",
    "    pred=model.predict(xtest) #make prediction on test set\n",
    "    error = np.sqrt(mean_squared_error(ytest,pred)) #calculate rmse\n",
    "    rmse_val.append(error) #store rmse values\n",
    "print('rmse_val :',rmse_val)"
   ]
  },
  {
   "cell_type": "code",
   "execution_count": null,
   "id": "3c02e479-803d-45ae-8f69-59ed884e4634",
   "metadata": {},
   "outputs": [],
   "source": [
    "# Lets plot the k-value and error rate\n",
    "plt.figure(figsize=(10,6))\n",
    "plt.plot(range(1,20),rmse_val,color='blue', linestyle='dashed', \n",
    "         marker='o',markerfacecolor='red', markersize=10)\n",
    "plt.title('RMSE value vs. K Value')\n",
    "plt.xticks(ticks=range(1, 20))  # Force x-axis ticks to show only integers\n",
    "plt.ylabel('Error Rate')\n",
    "plt.show()"
   ]
  },
  {
   "cell_type": "code",
   "execution_count": null,
   "id": "55bfbace-ddce-46d2-8e4c-157c735f9b7e",
   "metadata": {},
   "outputs": [],
   "source": [
    "knnr = KNeighborsRegressor(n_neighbors=9)\n",
    "knnr.fit(xtrain_proc,ytrain)\n",
    "knnr_ypred = knnr.predict(xtest_proc)"
   ]
  },
  {
   "cell_type": "code",
   "execution_count": null,
   "id": "1d405717-8517-4277-94ab-9c2c7a563a3b",
   "metadata": {},
   "outputs": [],
   "source": [
    "# Evaluate\n",
    "mae = mean_absolute_error(ytest, knnr_ypred)\n",
    "mse = mean_squared_error(ytest, knnr_ypred)\n",
    "rmse = np.sqrt(mse)\n",
    "r2 = r2_score(ytest, knnr_ypred)\n",
    "adj_r2 = 1 - (1 - r2) * (xtest_proc.shape[0] - 1) / (xtest_proc.shape[0] - xtest_proc.shape[1] - 1)\n",
    "\n",
    "# Print results\n",
    "print(f\"MAE         : {mae:.2f}\")\n",
    "print(f\"MSE         : {mse:.2f}\")\n",
    "print(f\"RMSE        : {rmse:.2f}\")\n",
    "print(f\"R²          : {r2:.3f}\")\n",
    "print(f\"Adjusted R² : {adj_r2:.3f}\")"
   ]
  },
  {
   "cell_type": "raw",
   "id": "3ebcdd76-ad90-47d0-81f4-d5628deb3dce",
   "metadata": {},
   "source": [
    "cnt col does not have outliers. If we check these metrics we find except for linear regressor all models are overfitting. Still we choose gb regressor, xgb regressor for hyperparameter tuning."
   ]
  },
  {
   "cell_type": "code",
   "execution_count": null,
   "id": "e0142959-65ed-4887-97a1-22e34dc59e6a",
   "metadata": {},
   "outputs": [],
   "source": [
    "gb_pipeline = Pipeline([\n",
    "                        ('keep cols consistent',Column_Filterer()),\n",
    "                        ('duplicate_remover',duplicate_handler()),\n",
    "                        ('pre-processing_steps',preprocessor),\n",
    "                        ('model',GradientBoostingRegressor(random_state=42))])\n",
    "gb_pipeline.fit(xtrain,ytrain)\n",
    "ypred_gb_pipeline = gb_pipeline.predict(xtest)\n",
    "#evaluate\n",
    "mae = mean_absolute_error(ytest, ypred_gb_pipeline)\n",
    "mse = mean_squared_error(ytest, ypred_gb_pipeline)\n",
    "rmse = np.sqrt(mse)\n",
    "r2 = r2_score(ytest, ypred_gb_pipeline)\n",
    "adj_r2 = 1 - (1 - r2) * (xtest.shape[0] - 1) / (xtest.shape[0] - xtest.shape[1] - 1)\n",
    "\n",
    "print(f\"MAE       : {mae:.2f}\")\n",
    "print(f\"MSE       : {mse:.2f}\")\n",
    "print(f\"RMSE      : {rmse:.2f}\")\n",
    "print(f\"R²        : {r2:.3f}\")\n",
    "print(f\"Adjusted R² : {adj_r2:.3f}\")"
   ]
  },
  {
   "cell_type": "code",
   "execution_count": null,
   "id": "65c7ae25-2fee-4a1b-b978-5a6d5a96a45e",
   "metadata": {},
   "outputs": [],
   "source": [
    "param_grid = {\n",
    "'model__n_estimators':[100,200,500],\n",
    "'model__learning_rate':[0.001,0.01,0.1,0.2],\n",
    "'model__max_depth':[2,3,4]\n",
    "             }\n",
    "gcv_gb_pipeline = GridSearchCV(estimator=gb_pipeline,param_grid=param_grid,cv=5,n_jobs=-1,verbose=0,scoring='neg_root_mean_squared_error')\n",
    "gcv_gb_pipeline.fit(xtrain, ytrain)"
   ]
  },
  {
   "cell_type": "code",
   "execution_count": null,
   "id": "d5bbaccd-fbe2-44a2-bdd8-ec1b7a4cd9d3",
   "metadata": {},
   "outputs": [],
   "source": [
    "# predict\n",
    "ypred_gcv_gb_pipeline = gcv_gb_pipeline.predict(xtest)"
   ]
  },
  {
   "cell_type": "code",
   "execution_count": null,
   "id": "31427598-1ea9-4059-a17a-eb64913f05ce",
   "metadata": {},
   "outputs": [],
   "source": [
    "mae = mean_absolute_error(ytest, ypred_gcv_gb_pipeline)\n",
    "mse = mean_squared_error(ytest, ypred_gcv_gb_pipeline)\n",
    "rmse = np.sqrt(mse)\n",
    "r2 = r2_score(ytest, ypred_gcv_gb_pipeline)\n",
    "adj_r2 = 1 - (1 - r2) * (xtest.shape[0] - 1) / (xtest.shape[0] - xtest.shape[1] - 1)\n",
    "# Print metrics\n",
    "print(f\"MAE         : {mae:.2f}\")\n",
    "print(f\"MSE         : {mse:.2f}\")\n",
    "print(f\"RMSE        : {rmse:.2f}\")\n",
    "print(f\"R²          : {r2:.3f}\")\n",
    "print(f\"Adjusted R² : {adj_r2:.3f}\")"
   ]
  },
  {
   "cell_type": "code",
   "execution_count": null,
   "id": "60aa0417-7744-4a2c-ae8f-f674b390949d",
   "metadata": {},
   "outputs": [],
   "source": []
  },
  {
   "cell_type": "code",
   "execution_count": null,
   "id": "d4072456-7526-4c20-b178-97c125bd0289",
   "metadata": {},
   "outputs": [],
   "source": []
  },
  {
   "cell_type": "code",
   "execution_count": null,
   "id": "bfefecdd-a02d-480a-9860-766800a98a45",
   "metadata": {},
   "outputs": [],
   "source": []
  },
  {
   "cell_type": "code",
   "execution_count": null,
   "id": "09bc57d0-3982-4480-acf4-0751edc60bf3",
   "metadata": {},
   "outputs": [],
   "source": []
  },
  {
   "cell_type": "code",
   "execution_count": null,
   "id": "ca6f77dd-6eb0-491f-8397-dec8e71e5c47",
   "metadata": {},
   "outputs": [],
   "source": []
  },
  {
   "cell_type": "code",
   "execution_count": null,
   "id": "171e9937-8302-48c3-aa69-59d5d4cf8126",
   "metadata": {},
   "outputs": [],
   "source": []
  },
  {
   "cell_type": "code",
   "execution_count": null,
   "id": "5c08e50a-d172-4009-9132-8ee2509c3836",
   "metadata": {},
   "outputs": [],
   "source": []
  },
  {
   "cell_type": "code",
   "execution_count": null,
   "id": "8ee80fef-2f1f-415f-aed1-2fee1f2e7b00",
   "metadata": {},
   "outputs": [],
   "source": []
  },
  {
   "cell_type": "code",
   "execution_count": null,
   "id": "6045ccc6-2bd5-4b4c-b7fb-4beaeaeacf22",
   "metadata": {},
   "outputs": [],
   "source": []
  },
  {
   "cell_type": "code",
   "execution_count": null,
   "id": "c3efb76e-7bfc-4569-892b-7eb3b312b637",
   "metadata": {},
   "outputs": [],
   "source": []
  },
  {
   "cell_type": "code",
   "execution_count": null,
   "id": "3eb86f37-a5fd-4e18-ae15-b0d9b6594493",
   "metadata": {},
   "outputs": [],
   "source": []
  },
  {
   "cell_type": "code",
   "execution_count": null,
   "id": "8291ed42-e7cc-425c-a55a-f7b4012d5e5b",
   "metadata": {},
   "outputs": [],
   "source": []
  },
  {
   "cell_type": "code",
   "execution_count": null,
   "id": "77128d10-6ddc-4c12-983b-6fbcdb86b23a",
   "metadata": {},
   "outputs": [],
   "source": []
  }
 ],
 "metadata": {
  "kernelspec": {
   "display_name": "Python 3 (ipykernel)",
   "language": "python",
   "name": "python3"
  },
  "language_info": {
   "codemirror_mode": {
    "name": "ipython",
    "version": 3
   },
   "file_extension": ".py",
   "mimetype": "text/x-python",
   "name": "python",
   "nbconvert_exporter": "python",
   "pygments_lexer": "ipython3",
   "version": "3.13.5"
  }
 },
 "nbformat": 4,
 "nbformat_minor": 5
}
